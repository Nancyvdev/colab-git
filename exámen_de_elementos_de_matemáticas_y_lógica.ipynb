{
  "nbformat": 4,
  "nbformat_minor": 0,
  "metadata": {
    "colab": {
      "provenance": [],
      "authorship_tag": "ABX9TyO6prhT2+7WI7dSBY8Jaii4",
      "include_colab_link": true
    },
    "kernelspec": {
      "name": "python3",
      "display_name": "Python 3"
    },
    "language_info": {
      "name": "python"
    }
  },
  "cells": [
    {
      "cell_type": "markdown",
      "metadata": {
        "id": "view-in-github",
        "colab_type": "text"
      },
      "source": [
        "<a href=\"https://colab.research.google.com/github/Nancyvdev/colab-git/blob/main/ex%C3%A1men_de_elementos_de_matem%C3%A1ticas_y_l%C3%B3gica.ipynb\" target=\"_parent\"><img src=\"https://colab.research.google.com/assets/colab-badge.svg\" alt=\"Open In Colab\"/></a>"
      ]
    },
    {
      "cell_type": "code",
      "execution_count": null,
      "metadata": {
        "id": "BhWoII-ZjfiC"
      },
      "outputs": [],
      "source": []
    },
    {
      "cell_type": "markdown",
      "source": [],
      "metadata": {
        "id": "Au_PCY2I1PF3"
      }
    },
    {
      "cell_type": "markdown",
      "source": [],
      "metadata": {
        "id": "hy7jD8nM1KZ2"
      }
    },
    {
      "cell_type": "markdown",
      "source": [],
      "metadata": {
        "id": "VojoQs2rlmEq"
      }
    },
    {
      "cell_type": "markdown",
      "source": [
        "Elementos de Matemática y Lógica"
      ],
      "metadata": {
        "id": "haQdj3wkk1e-"
      }
    },
    {
      "cell_type": "markdown",
      "source": [
        "\n",
        "Nombre Nancy Natacha Velazco\n",
        "\n",
        "DNI 30411018\n",
        "\n",
        "Matemáticas y lógica\n",
        "\n",
        "1año\n",
        "\n",
        "Profesor Narciso Pérez\n",
        "\n",
        "Carrera Tecnicatura superior en desarrollo de software\n",
        "\n",
        "Fecha de entrega:21/06/2023\n",
        "\n",
        "Las preguntas simbólicas de Lógica deben escribirlas con símbolos de\n",
        "Markdown en una celda de texto.\n",
        "Para los cálculos matemáticos deben estar las fórmulas y su cálculo en\n",
        "Python\n",
        "La evaluación deberá ser realizada en forma individual."
      ],
      "metadata": {
        "id": "OJwQGuMdjg1X"
      }
    },
    {
      "cell_type": "markdown",
      "source": [
        "PARTE I\n",
        "\n",
        "\n",
        "Analice cada una de las situaciones planteadas a continuación, resuélvelas y\n",
        "seleccione la opción correcta en cada caso, luego complete marcando dicha\n",
        "elección en el casillero de la última página de este examen. (Puntaje: 5% cada una)"
      ],
      "metadata": {
        "id": "JX6mZuBelpPG"
      }
    },
    {
      "cell_type": "markdown",
      "source": [],
      "metadata": {
        "id": "r5JuFcM0mGQU"
      }
    },
    {
      "cell_type": "markdown",
      "source": [
        "1 analizar la siguiente preposiciones"
      ],
      "metadata": {
        "id": "fs1PA6RO1nMm"
      }
    },
    {
      "cell_type": "markdown",
      "source": [
        "La preposiciones es la opción D qué es contingencia.En lógica, la contingencia es el modo de ser o característica de algo en cuanto a que puede ser o no ser, dependiendo del caso (algo que no es necesario, pero sí es posible).  En general la contingencia se predica de los estados de cosas, los hechos, los eventos o las proposiciones"
      ],
      "metadata": {
        "id": "NtyNs5NW143Q"
      }
    },
    {
      "cell_type": "markdown",
      "source": [
        "\n",
        "2 observar las 2 proposiciónes\n",
        "Por lo tanto, podemos concluir que ambas proposiciones son tautológicas, ya que son verdaderas para todas las posibles combinaciones de verdad de sus variables."
      ],
      "metadata": {
        "id": "dhC7CmxICkrH"
      }
    },
    {
      "cell_type": "markdown",
      "source": [],
      "metadata": {
        "id": "aEnheuCYDAYU"
      }
    },
    {
      "cell_type": "markdown",
      "source": [
        "3 respuesta B es Falsa porque para que la relación sea verdad debe ser VV o FF edte último es el caso."
      ],
      "metadata": {
        "id": "OB5uwO8SDDDJ"
      }
    },
    {
      "cell_type": "markdown",
      "source": [
        "4 q es falsa y r verdadera segun la relación condicional y la tabla"
      ],
      "metadata": {
        "id": "0tM_gHBnFJJ7"
      }
    },
    {
      "cell_type": "markdown",
      "source": [
        "5 es falsa"
      ],
      "metadata": {
        "id": "5k5eYVOLJ3iL"
      }
    },
    {
      "cell_type": "markdown",
      "source": [
        "6 es una relación de contingencia por lo tanto ya que q y p son falsa es falsa"
      ],
      "metadata": {
        "id": "9zk-MXgEH3dD"
      }
    },
    {
      "cell_type": "markdown",
      "source": [
        "7 respuesta e ninguna de las anteriores es de contingencia"
      ],
      "metadata": {
        "id": "xYsRkTM1Jqwm"
      }
    },
    {
      "cell_type": "markdown",
      "source": [],
      "metadata": {
        "id": "CCFZsA3uMeF9"
      }
    },
    {
      "cell_type": "markdown",
      "source": [
        "8\n",
        "El razonamiento que se presenta se conoce como razonamiento deductivo condicional válido. Específicamente, utiliza la estructura lógica del condicional \"si...entonces\" para establecer una serie de premisas y llegar a una conclusión. En este caso, las premisas establecen que G compró una notebook con x o y, que si compró una notebook con y, entonces obtuvo un descuento, y que no compró una notebook con x. A partir de estas premisas, se concluye que G obtuvo un descuento."
      ],
      "metadata": {
        "id": "Na1LkqqkMGYV"
      }
    },
    {
      "cell_type": "markdown",
      "source": [
        "Parte 2"
      ],
      "metadata": {
        "id": "J3HiEJZ0ZaeG"
      }
    },
    {
      "cell_type": "markdown",
      "source": [
        "Observe el folleto y los datos que aparecen en él. Luego resuelva los ejercicios\n",
        "desde el 9 hasta el 12 inclusive.\n",
        "\n",
        "9) Si compran cuatro botellas de gaseosas de 2 litros cada una al contado, el porcentaje de\n",
        "descuento que reciben por cada botella es:\n",
        "a) 5%\n",
        "b) $4,5\n",
        "c) 4,5%\n",
        "d) 20%\n",
        "e) Ninguna de las anteriores es correcta."
      ],
      "metadata": {
        "id": "nqhotZE63QC7"
      }
    },
    {
      "cell_type": "markdown",
      "source": [
        "9 a Obtuvieron el 5% de descuento\n",
        "x= 85,5•4•100 sobre 360"
      ],
      "metadata": {
        "id": "83NUmA8QPaH7"
      }
    },
    {
      "cell_type": "markdown",
      "source": [
        "10) Si compran dos packs de cervezas Duff al contado, deben pagar:\n",
        "a)$202,5\n",
        "b)$697,5\n",
        "c) $247,5\n",
        "d)$652,5\n",
        "e)Ninguna de las anteriores es correcta"
      ],
      "metadata": {
        "id": "rULYTetp3kK9"
      }
    },
    {
      "cell_type": "markdown",
      "source": [
        "10 respuesta d\n",
        "\n",
        "450•45•100+450= 652,5"
      ],
      "metadata": {
        "id": "FGMdTsEHRnmk"
      }
    },
    {
      "cell_type": "markdown",
      "source": [
        "11) Si compran 4 kg de matambre con la Tarjeta Colorada en tres cuotas de $480 cada\n",
        "una entonces el precio de contado del kilo de matambre es:\n",
        "a)$432\n",
        "b)$360\n",
        "c) $300\n",
        "d)$288\n",
        "e)$216\n",
        "\n",
        "\n",
        "11 respuesta D 288 cuesta el kilo\n",
        "\n",
        "x= 480 •3 : 4 • 20 sobre 100"
      ],
      "metadata": {
        "id": "c_u7XR7NS6Mz"
      }
    },
    {
      "cell_type": "markdown",
      "source": [
        "12) Si compran 3 botellas de fernet con la Tarjeta Originaria en un solo pago y abonan\n",
        "$663, entonces el precio de contado de una botella de fernet es:\n",
        "a)$298,35\n",
        "b)$143,65\n",
        "c) $430,95\n",
        "d)$340\n",
        "e)Ninguna de las anteriores es correcta."
      ],
      "metadata": {
        "id": "rIvk1hCH5TKj"
      }
    },
    {
      "cell_type": "markdown",
      "source": [
        "12 respuesta b\n",
        "\n",
        "(663•35:100):3"
      ],
      "metadata": {
        "id": "hM0qSa2FVrsf"
      }
    },
    {
      "cell_type": "markdown",
      "source": [
        "Parte 3"
      ],
      "metadata": {
        "id": "FQ7kJU32ZwKQ"
      }
    },
    {
      "cell_type": "markdown",
      "source": [
        "13) La cantidad de turistas que no llegaron a Córdoba en micro, en enero de 2023, es:\n",
        "a)225 mil.\n",
        "b)75 mil.\n",
        "c) 25 mil.\n",
        "d)75%\n",
        "e)La información es insuficiente\n",
        "\n",
        "13 respuesta A 225000\n",
        "\n",
        "300000•(5+20+50) sobre 100"
      ],
      "metadata": {
        "id": "Qes1lr3LlMLn"
      }
    },
    {
      "cell_type": "markdown",
      "source": [
        "14) ¿Cuántos turistas de por lo menos 40 años arribaron a Córdoba en enero de 2020?\n",
        "a)210 mil\n",
        "b)90 mil\n",
        "c) 36 mil\n",
        "d)12 mil\n",
        "e)Depende del medio de transporte.\n",
        "\n",
        "14 respuesta B 90000\n",
        "\n",
        "300000 • 30 sobre 100"
      ],
      "metadata": {
        "id": "AqechrMHl8bs"
      }
    },
    {
      "cell_type": "markdown",
      "source": [
        "15) La cantidad de turistas de por lo menos 40 años y menos de 30 años que arribaron a\n",
        "Córdoba en enero de 2020 es:\n",
        "a)264 mil\n",
        "b)123 mil\n",
        "c) 0\n",
        "d)88%\n",
        "e)300 mil\n",
        "\n",
        "\n",
        "\n",
        "15 Respuesta A 264000\n",
        "\n",
        "300000• (100-12) sobre 100"
      ],
      "metadata": {
        "id": "Gr2LHZDum1Jz"
      }
    },
    {
      "cell_type": "markdown",
      "source": [
        "16) ¿Qué porcentaje de turistas de 20 años como mínimo o menos de 51 años visitaron la\n",
        "ciudad en enero de 2020?\n",
        "a)0%\n",
        "b)La información es insuficiente para establecer el porcentaje\n",
        "c) 300 mil\n",
        "d)100%\n",
        "e)53%\n",
        "\n",
        "16 repuesta E 53%"
      ],
      "metadata": {
        "id": "jfPVjUMzpIzq"
      }
    },
    {
      "cell_type": "markdown",
      "source": [
        "17) La variable en estudio es:\n",
        "a)Cantidad de días de venta de una empresa de servicios de\n",
        "transporte.\n",
        "b)Servicios de transporte de una empresa.\n",
        "c) Porcentajes de venta de una empresa de servicios de transporte.\n",
        "d)Ventas diarias (en pesos) de una empresa de servicios de transporte.\n",
        "e)Los 120 días que se registraron las ventas en una empresa de servicios de transporte.\n",
        "\n",
        "17 Respuesta e)Los 120 días que se registraron las ventas en una empresa de servicios de\n",
        "transporte."
      ],
      "metadata": {
        "id": "xxlU4xefpSUO"
      }
    },
    {
      "cell_type": "markdown",
      "source": [
        "\n",
        "18) Según su naturaleza, esta variable se clasifica como:\n",
        "a)Cualitativa.\n",
        "b)Cuantitativa discreta.\n",
        "c)Cuantitativa continua.\n",
        "d)Categórica.\n",
        "e)Cualitativa continua.\n",
        "\n",
        "18 respuesta C Las variables son del tipo cuantitativa continúa"
      ],
      "metadata": {
        "id": "zUp9qm1ZqYCv"
      }
    },
    {
      "cell_type": "markdown",
      "source": [
        " 19) ¿En cuántos días se registraron ventas de no menos de $1330?\n",
        "\n",
        "19 respuesta B 78 días de ventas"
      ],
      "metadata": {
        "id": "7w8XNpDctARv"
      }
    },
    {
      "cell_type": "markdown",
      "source": [
        " 20 respuesta A 70%"
      ],
      "metadata": {
        "id": "rluBw3Zwtsg3"
      }
    }
  ]
}