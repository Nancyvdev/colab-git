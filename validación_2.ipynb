{
  "nbformat": 4,
  "nbformat_minor": 0,
  "metadata": {
    "colab": {
      "provenance": [],
      "authorship_tag": "ABX9TyP5p/kIKEweXvHGRUdX90v0",
      "include_colab_link": true
    },
    "kernelspec": {
      "name": "python3",
      "display_name": "Python 3"
    },
    "language_info": {
      "name": "python"
    }
  },
  "cells": [
    {
      "cell_type": "markdown",
      "metadata": {
        "id": "view-in-github",
        "colab_type": "text"
      },
      "source": [
        "<a href=\"https://colab.research.google.com/github/Nancyvdev/colab-git/blob/main/validaci%C3%B3n_2.ipynb\" target=\"_parent\"><img src=\"https://colab.research.google.com/assets/colab-badge.svg\" alt=\"Open In Colab\"/></a>"
      ]
    },
    {
      "cell_type": "code",
      "execution_count": null,
      "metadata": {
        "id": "BWLJduawJx5T"
      },
      "outputs": [],
      "source": [
        "def validar_ingreso(usuario, dni, contraseña):\n",
        "    # Validar tipo de usuario\n",
        "    if usuario == \"estudiante\" or usuario == \"profesor\" or usuario == \"preceptor\" or usuario == \"directivo\":\n",
        "        # Validar longitud del DNI y contraseña\n",
        "        if len(str(dni)) == 8 and len(str(contraseña)) == 6:\n",
        "            # Validar que la contraseña sea numérica\n",
        "            if str(contraseña).isdigit():\n",
        "                print(\"Ingreso al sistema exitoso.\")\n",
        "            else:\n",
        "                print(\"La contraseña debe ser un número.\")\n",
        "        else:\n",
        "            print(\"El DNI y la contraseña deben tener la longitud correcta.\")\n",
        "    else:\n",
        "        print(\"Tipo de usuario inválido.\")\n",
        "\n",
        "# Ejemplo de uso\n",
        "usuario = input(\"Ingrese el tipo de usuario (estudiante, profesor, preceptor, directivo): \")\n",
        "dni = input(\"Ingrese el número de DNI: \")\n",
        "contraseña = input(\"Ingrese la contraseña de 6 dígitos: \")\n",
        "\n",
        "validar_ingreso(usuario, dni, contraseña)"
      ]
    }
  ]
}