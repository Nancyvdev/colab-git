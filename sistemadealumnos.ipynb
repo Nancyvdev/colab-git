{
  "nbformat": 4,
  "nbformat_minor": 0,
  "metadata": {
    "colab": {
      "provenance": [],
      "authorship_tag": "ABX9TyN5fEj44kQVOj3JBGoFIyqF",
      "include_colab_link": true
    },
    "kernelspec": {
      "name": "python3",
      "display_name": "Python 3"
    },
    "language_info": {
      "name": "python"
    }
  },
  "cells": [
    {
      "cell_type": "markdown",
      "metadata": {
        "id": "view-in-github",
        "colab_type": "text"
      },
      "source": [
        "<a href=\"https://colab.research.google.com/github/Nancyvdev/colab-git/blob/main/sistemadealumnos.ipynb\" target=\"_parent\"><img src=\"https://colab.research.google.com/assets/colab-badge.svg\" alt=\"Open In Colab\"/></a>"
      ]
    },
    {
      "cell_type": "code",
      "execution_count": null,
      "metadata": {
        "id": "VS1CYKRSwpBs"
      },
      "outputs": [],
      "source": [
        "\n",
        "alumnos = [\n",
        "    {\n",
        "        \"nombre\": \"Juan\",\n",
        "        \"notas\": [],\n",
        "        \"asistencias\": []\n",
        "    },\n",
        "    {\n",
        "        \"nombre\": \"María\",\n",
        "        \"notas\": [],\n",
        "        \"asistencias\": []\n",
        "    },\n",
        "    {\n",
        "        \"nombre\": \"Pedro\",\n",
        "        \"notas\": [],\n",
        "        \"asistencias\": []\n",
        "    }\n",
        "]\n",
        "\n",
        "def cargar_notas(usuario):\n",
        "    for i, alumno in enumerate(alumnos):\n",
        "        print(f\"Alumno {i+1}: {alumno['nombre']}\")\n",
        "        if usuario == \"profesor\":\n",
        "            nota = float(input(\"Ingrese la nota del alumno (0-10): \"))\n",
        "            while nota < 0 or nota > 10:\n",
        "                nota = float(input(\"Ingrese una nota válida (0-10): \"))\n",
        "            alumno[\"notas\"].append(nota)\n",
        "            print(\"Nota cargada exitosamente.\")\n",
        "        else:\n",
        "            print(\"No tienes permisos para cargar notas.\")\n",
        "\n",
        "def ver_notas(usuario):\n",
        "    for i, alumno in enumerate(alumnos):\n",
        "        print(f\"Alumno {i+1}: {alumno['nombre']}\")\n",
        "        print(f\"Notas: {alumno['notas']}\")\n",
        "\n",
        "        # Calcular la condición del alumno\n",
        "        promedio = sum(alumno['notas']) / len(alumno['notas'])\n",
        "        if promedio < 4:\n",
        "            condicion = \"Libre\"\n",
        "        elif promedio >= 4 and promedio < 7:\n",
        "            condicion = \"Regular\"\n",
        "        else:\n",
        "            condicion = \"Promocional\"\n",
        "\n",
        "        print(f\"Condición: {condicion}\")\n",
        "\n",
        "def cargar_inasistencia(usuario):\n",
        "    for i, alumno in enumerate(alumnos):\n",
        "        print(f\"Alumno {i+1}: {alumno['nombre']}\")\n",
        "        if usuario == \"preceptor\":\n",
        "            inasistencia = input(\"¿El alumno tuvo inasistencia? (S/N): \")\n",
        "            while inasistencia.upper() not in [\"S\", \"N\"]:\n",
        "                inasistencia = input(\"Ingrese una opción válida (S/N): \")\n",
        "            alumno[\"asistencias\"].append(inasistencia)\n",
        "            print(\"Inasistencia cargada exitosamente.\")\n",
        "        else:\n",
        "            print(\"No tienes permisos para cargar inasistencias.\")\n",
        "\n",
        "# Ejemplo de uso\n",
        "usuario = input(\"Ingrese el tipo de usuario (profesor/alumno/preceptor): \")\n",
        "while usuario not in [\"profesor\", \"alumno\", \"preceptor\"]:\n",
        "    usuario = input(\"Ingrese un tipo de usuario válido (profesor/alumno/preceptor): \")\n",
        "\n",
        "if usuario == \"profesor\":\n",
        "    cargar_notas(usuario)\n",
        "    # También puede llamar a cargar_inasistencia(usuario) si el profesor tiene permiso para hacerlo\n",
        "elif usuario == \"alumno\":\n",
        "    ver_notas(usuario)\n",
        "elif usuario == \"preceptor\":\n",
        "    ver_notas(usuario)\n",
        "    cargar_inasistencia(usuario)"
      ]
    }
  ]
}