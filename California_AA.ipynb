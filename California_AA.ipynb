{
  "nbformat": 4,
  "nbformat_minor": 0,
  "metadata": {
    "colab": {
      "provenance": [],
      "authorship_tag": "ABX9TyMQ9R/Jx5h+Yj9PxCMHlmz7",
      "include_colab_link": true
    },
    "kernelspec": {
      "name": "python3",
      "display_name": "Python 3"
    },
    "language_info": {
      "name": "python"
    }
  },
  "cells": [
    {
      "cell_type": "markdown",
      "metadata": {
        "id": "view-in-github",
        "colab_type": "text"
      },
      "source": [
        "<a href=\"https://colab.research.google.com/github/Nancyvdev/colab-git/blob/main/California_AA.ipynb\" target=\"_parent\"><img src=\"https://colab.research.google.com/assets/colab-badge.svg\" alt=\"Open In Colab\"/></a>"
      ]
    },
    {
      "cell_type": "code",
      "source": [
        "import numpy as np\n",
        "import pandas as pd\n",
        "from sklearn.datasets import fetch_california_housing\n",
        "from sklearn.model_selection import train_test_split\n",
        "from sklearn.linear_model import LinearRegression\n",
        "from sklearn.metrics import mean_squared_error, r2_score\n",
        "\n",
        "# Cargar el conjunto de datos de precios de vivienda en California\n",
        "california = fetch_california_housing()\n",
        "\n",
        "# Dividir los datos en características (X) y el objetivo (y)\n",
        "X = pd.DataFrame(california.data, columns=california.feature_names)\n",
        "y = pd.Series(california.target)\n",
        "\n",
        "# Obtener la cantidad de muestras en X e y\n",
        "print(\"Cantidad de muestras en X:\", X.shape[0])\n",
        "print(\"Cantidad de muestras en y:\", y.shape[0])\n",
        "\n",
        "# Dividir los datos en conjuntos de entrenamiento y prueba\n",
        "X_train, X_test, y_train, y_test = train_test_split(X, y, test_size=0.2, random_state=42)\n",
        "\n",
        "# Obtener el número exacto de muestras en el conjunto de entrenamiento y prueba\n",
        "print(\"Número de muestras en el conjunto de entrenamiento:\", len(X_train))\n",
        "print(\"Número de muestras en el conjunto de prueba:\", len(X_test))\n",
        "\n",
        "\n",
        "from sklearn.datasets import fetch_california_housing\n",
        "from sklearn.model_selection import train_test_split\n",
        "from sklearn.neighbors import KNeighborsRegressor\n",
        "from sklearn.metrics import mean_squared_error\n",
        "\n",
        "# Cargar el conjunto de datos de California\n",
        "california = fetch_california_housing()\n",
        "\n",
        "# Dividir los datos en conjuntos de entrenamiento y prueba\n",
        "X_train, X_test, y_train, y_test = train_test_split(california.data, california.target, test_size=0.2, random_state=42)\n",
        "\n",
        "# Crear una instancia del modelo de regresión KNN\n",
        "model = KNeighborsRegressor(n_neighbors=5)\n",
        "\n",
        "# Entrenar el modelo con los datos de entrenamiento\n",
        "model.fit(X_train, y_train)\n",
        "\n",
        "# Hacer predicciones en los datos de prueba\n",
        "y_pred = model.predict(X_test)\n",
        "\n",
        "# Calcular el error cuadrático medio (Mean Squared Error, MSE)\n",
        "mse = mean_squared_error(y_test, y_pred)\n",
        "print(\"Error cuadrático medio:\", mse)\n",
        "\n",
        "from sklearn.metrics import mean_squared_error, r2_score\n",
        "\n",
        "# Hacer predicciones en los datos de prueba\n",
        "y_pred = model.predict(X_test)\n",
        "\n",
        "# Calcular el MSE\n",
        "mse = mean_squared_error(y_test, y_pred)\n",
        "print(\"Error cuadrático medio:\", mse)\n",
        "\n",
        "# Calcular el R^2\n",
        "r2 = r2_score(y_test, y_pred)\n",
        "print(\"Coeficiente de determinación (R^2):\", r2\n",
        ")\n",
        "from sklearn.metrics import r2_score\n",
        "\n",
        "# Hacer predicciones en los datos de prueba\n",
        "y_pred = model.predict(X_test)\n",
        "\n",
        "# Calcular el coeficiente de determinación (R^2)\n",
        "r2 = r2_score(y_test, y_pred)\n",
        "print(\"Coeficiente de determinación (R^2):\", r2)"
      ],
      "metadata": {
        "colab": {
          "base_uri": "https://localhost:8080/"
        },
        "id": "-_uWqBY5iByd",
        "outputId": "a77f7787-e847-436d-988a-4165fa790c89"
      },
      "execution_count": 22,
      "outputs": [
        {
          "output_type": "stream",
          "name": "stdout",
          "text": [
            "Cantidad de muestras en X: 20640\n",
            "Cantidad de muestras en y: 20640\n",
            "Número de muestras en el conjunto de entrenamiento: 16512\n",
            "Número de muestras en el conjunto de prueba: 4128\n",
            "Error cuadrático medio: 1.1186823858768293\n",
            "Error cuadrático medio: 1.1186823858768293\n",
            "Coeficiente de determinación (R^2): 0.14631049965900345\n",
            "Coeficiente de determinación (R^2): 0.14631049965900345\n"
          ]
        }
      ]
    }
  ]
}